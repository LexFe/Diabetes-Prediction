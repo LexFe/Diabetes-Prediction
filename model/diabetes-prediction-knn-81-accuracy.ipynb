{
 "cells": [
  {
   "cell_type": "markdown",
   "id": "62494260",
   "metadata": {
    "_cell_guid": "b1076dfc-b9ad-4769-8c92-a6c4dae69d19",
    "_uuid": "8f2839f25d086af736a60e9eeb907d3b93b6e0e5",
    "papermill": {
     "duration": 0.012938,
     "end_time": "2024-03-30T14:13:11.623504",
     "exception": false,
     "start_time": "2024-03-30T14:13:11.610566",
     "status": "completed"
    },
    "tags": []
   },
   "source": [
    "# Import libraries"
   ]
  },
  {
   "cell_type": "code",
   "execution_count": null,
   "id": "70637d98",
   "metadata": {
    "execution": {
     "iopub.execute_input": "2024-03-30T14:13:11.651354Z",
     "iopub.status.busy": "2024-03-30T14:13:11.650870Z",
     "iopub.status.idle": "2024-03-30T14:13:14.774543Z",
     "shell.execute_reply": "2024-03-30T14:13:14.773434Z"
    },
    "papermill": {
     "duration": 3.141379,
     "end_time": "2024-03-30T14:13:14.777530",
     "exception": false,
     "start_time": "2024-03-30T14:13:11.636151",
     "status": "completed"
    },
    "tags": []
   },
   "outputs": [],
   "source": [
    "import numpy as np\n",
    "import pandas as pd\n",
    "import matplotlib.pyplot as plt\n",
    "import seaborn as sns\n",
    "from sklearn.model_selection import train_test_split, cross_val_score\n",
    "from sklearn.preprocessing import StandardScaler\n",
    "from sklearn.neighbors import KNeighborsClassifier\n",
    "from sklearn.metrics import accuracy_score, precision_score, recall_score, f1_score, confusion_matrix, ConfusionMatrixDisplay, classification_report\n",
    "import warnings\n",
    "warnings.filterwarnings('ignore')"
   ]
  },
  {
   "cell_type": "markdown",
   "id": "cac3b04c",
   "metadata": {
    "papermill": {
     "duration": 0.012206,
     "end_time": "2024-03-30T14:13:14.802457",
     "exception": false,
     "start_time": "2024-03-30T14:13:14.790251",
     "status": "completed"
    },
    "tags": []
   },
   "source": [
    "# EDA"
   ]
  },
  {
   "cell_type": "code",
   "execution_count": null,
   "id": "451467db",
   "metadata": {
    "execution": {
     "iopub.execute_input": "2024-03-30T14:13:14.831190Z",
     "iopub.status.busy": "2024-03-30T14:13:14.830029Z",
     "iopub.status.idle": "2024-03-30T14:13:14.854931Z",
     "shell.execute_reply": "2024-03-30T14:13:14.854036Z"
    },
    "papermill": {
     "duration": 0.042327,
     "end_time": "2024-03-30T14:13:14.857462",
     "exception": false,
     "start_time": "2024-03-30T14:13:14.815135",
     "status": "completed"
    },
    "tags": []
   },
   "outputs": [],
   "source": [
    "# Read CSV Data\n",
    "data = pd.read_csv(\"diabetes.csv\")"
   ]
  },
  {
   "cell_type": "code",
   "execution_count": null,
   "id": "8f90b251",
   "metadata": {
    "execution": {
     "iopub.execute_input": "2024-03-30T14:13:14.885689Z",
     "iopub.status.busy": "2024-03-30T14:13:14.884913Z",
     "iopub.status.idle": "2024-03-30T14:13:14.908182Z",
     "shell.execute_reply": "2024-03-30T14:13:14.907330Z"
    },
    "papermill": {
     "duration": 0.039674,
     "end_time": "2024-03-30T14:13:14.910699",
     "exception": false,
     "start_time": "2024-03-30T14:13:14.871025",
     "status": "completed"
    },
    "tags": []
   },
   "outputs": [],
   "source": [
    "data.head(10)"
   ]
  },
  {
   "cell_type": "markdown",
   "id": "c4d50b1c",
   "metadata": {
    "papermill": {
     "duration": 0.012578,
     "end_time": "2024-03-30T14:13:14.936415",
     "exception": false,
     "start_time": "2024-03-30T14:13:14.923837",
     "status": "completed"
    },
    "tags": []
   },
   "source": [
    "## Summary of the Diabetes Dataset\n",
    "\n",
    "This dataset aims to aid in the diagnosis of diabetes by providing a collection of diagnostic measurements for 768 patients. Each row represents a single patient, and the features describe various health factors potentially related to diabetes.\n",
    "\n",
    "**Attributes:**\n",
    "\n",
    "* **Pregnancies:** Number of times a woman has been pregnant\n",
    "* **Glucose:** Blood glucose level\n",
    "* **BloodPressure:** Blood pressure measurement in mm Hg\n",
    "* **SkinThickness:** Skin thickness (mm)\n",
    "* **Insulin:** Blood insulin level (μU/mL)\n",
    "* **BMI:** Body mass index (calculated from weight and height)\n",
    "* **DiabetesPedigreeFunction:** Function score based on family history of diabetes\n",
    "* **Age:** Patient's age (years)\n",
    "* **Outcome:** Indicates presence of diabetes (1 - Yes, 0 - No)\n"
   ]
  },
  {
   "cell_type": "code",
   "execution_count": null,
   "id": "48ef2c0f",
   "metadata": {
    "execution": {
     "iopub.execute_input": "2024-03-30T14:13:14.964302Z",
     "iopub.status.busy": "2024-03-30T14:13:14.963598Z",
     "iopub.status.idle": "2024-03-30T14:13:14.969583Z",
     "shell.execute_reply": "2024-03-30T14:13:14.968322Z"
    },
    "papermill": {
     "duration": 0.022718,
     "end_time": "2024-03-30T14:13:14.971937",
     "exception": false,
     "start_time": "2024-03-30T14:13:14.949219",
     "status": "completed"
    },
    "tags": []
   },
   "outputs": [],
   "source": [
    "# number of row's and col in data set \n",
    "row,col=data.shape\n",
    "print(\"Number of Row's in Data :\",row)\n",
    "print(\"Number of Col's in Data :\",col)"
   ]
  },
  {
   "cell_type": "code",
   "execution_count": null,
   "id": "5bc46ad2",
   "metadata": {
    "execution": {
     "iopub.execute_input": "2024-03-30T14:13:15.000863Z",
     "iopub.status.busy": "2024-03-30T14:13:15.000459Z",
     "iopub.status.idle": "2024-03-30T14:13:15.014252Z",
     "shell.execute_reply": "2024-03-30T14:13:15.013018Z"
    },
    "papermill": {
     "duration": 0.031818,
     "end_time": "2024-03-30T14:13:15.017263",
     "exception": false,
     "start_time": "2024-03-30T14:13:14.985445",
     "status": "completed"
    },
    "tags": []
   },
   "outputs": [],
   "source": [
    "# Check for duplicates and remove them if found\n",
    "if data.duplicated().sum() > 0:\n",
    "    print(\"Found duplicate rows. Removing them...\")\n",
    "    data = data.drop_duplicates()"
   ]
  },
  {
   "cell_type": "code",
   "execution_count": null,
   "id": "0943d0f5",
   "metadata": {
    "execution": {
     "iopub.execute_input": "2024-03-30T14:13:15.045297Z",
     "iopub.status.busy": "2024-03-30T14:13:15.044867Z",
     "iopub.status.idle": "2024-03-30T14:13:15.052787Z",
     "shell.execute_reply": "2024-03-30T14:13:15.051253Z"
    },
    "papermill": {
     "duration": 0.024987,
     "end_time": "2024-03-30T14:13:15.055329",
     "exception": false,
     "start_time": "2024-03-30T14:13:15.030342",
     "status": "completed"
    },
    "tags": []
   },
   "outputs": [],
   "source": [
    "# Check for missing values\n",
    "missing_values = data.isna().sum()\n",
    "if missing_values.any():\n",
    "    print(f\"Missing values found in {missing_values.index.tolist()}. Consider imputation techniques.\")"
   ]
  },
  {
   "cell_type": "code",
   "execution_count": null,
   "id": "ec03f795",
   "metadata": {
    "execution": {
     "iopub.execute_input": "2024-03-30T14:13:15.084160Z",
     "iopub.status.busy": "2024-03-30T14:13:15.083721Z",
     "iopub.status.idle": "2024-03-30T14:13:15.105991Z",
     "shell.execute_reply": "2024-03-30T14:13:15.104737Z"
    },
    "papermill": {
     "duration": 0.039798,
     "end_time": "2024-03-30T14:13:15.108779",
     "exception": false,
     "start_time": "2024-03-30T14:13:15.068981",
     "status": "completed"
    },
    "tags": []
   },
   "outputs": [],
   "source": [
    "data.info()"
   ]
  },
  {
   "cell_type": "code",
   "execution_count": null,
   "id": "3d8d06e5",
   "metadata": {
    "execution": {
     "iopub.execute_input": "2024-03-30T14:13:15.137272Z",
     "iopub.status.busy": "2024-03-30T14:13:15.136835Z",
     "iopub.status.idle": "2024-03-30T14:13:15.179643Z",
     "shell.execute_reply": "2024-03-30T14:13:15.178393Z"
    },
    "papermill": {
     "duration": 0.060306,
     "end_time": "2024-03-30T14:13:15.182368",
     "exception": false,
     "start_time": "2024-03-30T14:13:15.122062",
     "status": "completed"
    },
    "tags": []
   },
   "outputs": [],
   "source": [
    "data.describe().T"
   ]
  },
  {
   "cell_type": "code",
   "execution_count": null,
   "id": "8b4b6d6f",
   "metadata": {
    "execution": {
     "iopub.execute_input": "2024-03-30T14:13:15.212305Z",
     "iopub.status.busy": "2024-03-30T14:13:15.211873Z",
     "iopub.status.idle": "2024-03-30T14:13:15.222358Z",
     "shell.execute_reply": "2024-03-30T14:13:15.221127Z"
    },
    "papermill": {
     "duration": 0.028409,
     "end_time": "2024-03-30T14:13:15.224890",
     "exception": false,
     "start_time": "2024-03-30T14:13:15.196481",
     "status": "completed"
    },
    "tags": []
   },
   "outputs": [],
   "source": [
    "data[\"Outcome\"].value_counts()"
   ]
  },
  {
   "cell_type": "markdown",
   "id": "63433217",
   "metadata": {
    "papermill": {
     "duration": 0.013923,
     "end_time": "2024-03-30T14:13:15.252616",
     "exception": false,
     "start_time": "2024-03-30T14:13:15.238693",
     "status": "completed"
    },
    "tags": []
   },
   "source": [
    "# Visualization"
   ]
  },
  {
   "cell_type": "code",
   "execution_count": null,
   "id": "97c5af6d",
   "metadata": {
    "execution": {
     "iopub.execute_input": "2024-03-30T14:13:15.282031Z",
     "iopub.status.busy": "2024-03-30T14:13:15.281646Z",
     "iopub.status.idle": "2024-03-30T14:13:15.759697Z",
     "shell.execute_reply": "2024-03-30T14:13:15.758571Z"
    },
    "papermill": {
     "duration": 0.496341,
     "end_time": "2024-03-30T14:13:15.762617",
     "exception": false,
     "start_time": "2024-03-30T14:13:15.266276",
     "status": "completed"
    },
    "tags": []
   },
   "outputs": [],
   "source": [
    "# Plotting For Diabetes Status\n",
    "labels = ['Non-Diabetic', 'Diabetic']\n",
    "plt.figure(figsize=(15,5))\n",
    "\n",
    "plt.subplot(1, 2, 1)\n",
    "sns.countplot(data=data, x='Outcome', hue='Outcome', alpha=1)\n",
    "plt.legend(labels)\n",
    "plt.title('Histogram For Diabetes Status', size=15)\n",
    "\n",
    "plt.subplot(1, 2, 2)  \n",
    "y = data['Outcome'].value_counts()\n",
    "explode = [0, 0.02]  \n",
    "plt.pie(y, labels=labels, explode=explode, autopct='%.2f%%')\n",
    "plt.axis('equal')\n",
    "plt.legend(labels)\n",
    "circle = plt.Circle(xy=(0, 0), radius=0.75, facecolor='white', edgecolor='black')\n",
    "plt.gca().add_artist(circle)\n",
    "plt.title('Pie Chart for Diabetes Status', size=15)\n",
    "plt.show()"
   ]
  },
  {
   "cell_type": "markdown",
   "id": "299709cc",
   "metadata": {
    "papermill": {
     "duration": 0.014393,
     "end_time": "2024-03-30T14:13:15.792707",
     "exception": false,
     "start_time": "2024-03-30T14:13:15.778314",
     "status": "completed"
    },
    "tags": []
   },
   "source": [
    "#### By observing the charts, we can confirm that the dataset contains a higher proportion of Non-Diabetic patients (500, corresponding to 65.10% as displayed on the chart) compared to Diabetic patients (268, corresponding to 34.90%). This initial exploration highlights a potential class imbalance within the data."
   ]
  },
  {
   "cell_type": "code",
   "execution_count": null,
   "id": "3dc25f89",
   "metadata": {
    "execution": {
     "iopub.execute_input": "2024-03-30T14:13:15.825109Z",
     "iopub.status.busy": "2024-03-30T14:13:15.824034Z",
     "iopub.status.idle": "2024-03-30T14:13:16.169085Z",
     "shell.execute_reply": "2024-03-30T14:13:16.167746Z"
    },
    "papermill": {
     "duration": 0.363813,
     "end_time": "2024-03-30T14:13:16.171847",
     "exception": false,
     "start_time": "2024-03-30T14:13:15.808034",
     "status": "completed"
    },
    "tags": []
   },
   "outputs": [],
   "source": [
    "plt.figure(figsize=(12,5))\n",
    "sns.histplot(data['Age'],kde=False,color='skyblue')\n",
    "plt.title('Histogram For Age', size=15)\n",
    "plt.show()"
   ]
  },
  {
   "cell_type": "markdown",
   "id": "a964e02b",
   "metadata": {
    "papermill": {
     "duration": 0.014972,
     "end_time": "2024-03-30T14:13:16.201911",
     "exception": false,
     "start_time": "2024-03-30T14:13:16.186939",
     "status": "completed"
    },
    "tags": []
   },
   "source": [
    "#### By observing the histogram, we can see a right-skewed distribution. The x-axis represents age groups, and the y-axis indicates the number of patients in each age group. This skewness suggests a higher concentration of individuals in younger age groups, particularly between 21 and 28 years old. The number of patients seems to decrease in older age categories."
   ]
  },
  {
   "cell_type": "code",
   "execution_count": null,
   "id": "517f4a8a",
   "metadata": {
    "execution": {
     "iopub.execute_input": "2024-03-30T14:13:16.233699Z",
     "iopub.status.busy": "2024-03-30T14:13:16.233253Z",
     "iopub.status.idle": "2024-03-30T14:13:16.241837Z",
     "shell.execute_reply": "2024-03-30T14:13:16.240623Z"
    },
    "papermill": {
     "duration": 0.027437,
     "end_time": "2024-03-30T14:13:16.244259",
     "exception": false,
     "start_time": "2024-03-30T14:13:16.216822",
     "status": "completed"
    },
    "tags": []
   },
   "outputs": [],
   "source": [
    "# Function for Stacked Histograms with Outcome Coloring\n",
    "def plot_stacked_histograms(data, features, figsize=(15, 12)):\n",
    " \n",
    "  num_features = len(features)\n",
    "  num_rows = (num_features + 3) // 3  \n",
    "\n",
    "  plt.figure(figsize=figsize)\n",
    "  for i, feature in enumerate(features):\n",
    "    row_num = (i // 3) + 1  \n",
    "    col_num = (i % 3) + 1  \n",
    "\n",
    "    plt.subplot(num_rows, 3, (row_num - 1) * 3 + col_num)\n",
    "    sns.histplot(data=data, x=feature, hue=\"Outcome\", multiple=\"stack\", kde=True)\n",
    "    plt.title(f\"{feature} by Outcome\")  \n",
    "\n",
    "  plt.tight_layout()\n",
    "  plt.show()"
   ]
  },
  {
   "cell_type": "markdown",
   "id": "9c743032",
   "metadata": {
    "papermill": {
     "duration": 0.014858,
     "end_time": "2024-03-30T14:13:16.274110",
     "exception": false,
     "start_time": "2024-03-30T14:13:16.259252",
     "status": "completed"
    },
    "tags": []
   },
   "source": [
    "### Visualizing Feature Distributions by Outcome:"
   ]
  },
  {
   "cell_type": "code",
   "execution_count": null,
   "id": "57baa4f1",
   "metadata": {
    "execution": {
     "iopub.execute_input": "2024-03-30T14:13:16.306799Z",
     "iopub.status.busy": "2024-03-30T14:13:16.306424Z",
     "iopub.status.idle": "2024-03-30T14:13:20.150794Z",
     "shell.execute_reply": "2024-03-30T14:13:20.149522Z"
    },
    "papermill": {
     "duration": 3.863628,
     "end_time": "2024-03-30T14:13:20.153289",
     "exception": false,
     "start_time": "2024-03-30T14:13:16.289661",
     "status": "completed"
    },
    "tags": []
   },
   "outputs": [],
   "source": [
    "# Calling the function with our data and list of features\n",
    "features = ['Age', 'DiabetesPedigreeFunction', 'BMI', 'Insulin', \n",
    "            'SkinThickness', 'BloodPressure', 'Glucose']\n",
    "plot_stacked_histograms(data, features)"
   ]
  },
  {
   "cell_type": "markdown",
   "id": "fa885e5f",
   "metadata": {
    "papermill": {
     "duration": 0.017958,
     "end_time": "2024-03-30T14:13:20.191021",
     "exception": false,
     "start_time": "2024-03-30T14:13:20.173063",
     "status": "completed"
    },
    "tags": []
   },
   "source": [
    "#### This section employs stacked histograms to visually represent the distribution of various features within the dataset. Each histogram is overlaid with different colors to distinguish between patients classified as diabetic and non-diabetic.\n",
    "\n",
    "#### By analyzing these stacked histograms, we can observe how the distribution of each feature (e.g., 'Age', 'BMI') varies across the two outcome groups. This visualization technique allows us to identify potential patterns or relationships between feature values and the presence or absence of diabetes."
   ]
  },
  {
   "cell_type": "code",
   "execution_count": null,
   "id": "39f7f3b7",
   "metadata": {
    "execution": {
     "iopub.execute_input": "2024-03-30T14:13:20.229681Z",
     "iopub.status.busy": "2024-03-30T14:13:20.229249Z",
     "iopub.status.idle": "2024-03-30T14:13:20.237962Z",
     "shell.execute_reply": "2024-03-30T14:13:20.236470Z"
    },
    "papermill": {
     "duration": 0.031394,
     "end_time": "2024-03-30T14:13:20.240675",
     "exception": false,
     "start_time": "2024-03-30T14:13:20.209281",
     "status": "completed"
    },
    "tags": []
   },
   "outputs": [],
   "source": [
    "# Function for scatter plot to show the distribution of the age VS other features\n",
    "def plot_scatter_age_distribution(data, features, figsize=(10, 30)):\n",
    "   \n",
    "    num_features = len(features)\n",
    "    num_rows = num_features \n",
    "\n",
    "    plt.figure(figsize=figsize)\n",
    "    for i, feature in enumerate(features):\n",
    "        plt.subplot(num_rows, 1, i + 1)  \n",
    "        sns.scatterplot(data=data, x=feature, y=\"Age\")  \n",
    "        plt.title(f\"Age Distribution VS {feature}\")\n",
    "\n",
    "    plt.tight_layout()\n",
    "    plt.show()"
   ]
  },
  {
   "cell_type": "markdown",
   "id": "a9975eb1",
   "metadata": {
    "papermill": {
     "duration": 0.017815,
     "end_time": "2024-03-30T14:13:20.276697",
     "exception": false,
     "start_time": "2024-03-30T14:13:20.258882",
     "status": "completed"
    },
    "tags": []
   },
   "source": [
    "### Visualizing Feature Distributions by Age:"
   ]
  },
  {
   "cell_type": "code",
   "execution_count": null,
   "id": "55bb14c5",
   "metadata": {
    "execution": {
     "iopub.execute_input": "2024-03-30T14:13:20.315984Z",
     "iopub.status.busy": "2024-03-30T14:13:20.314777Z",
     "iopub.status.idle": "2024-03-30T14:13:22.412753Z",
     "shell.execute_reply": "2024-03-30T14:13:22.411371Z"
    },
    "papermill": {
     "duration": 2.124161,
     "end_time": "2024-03-30T14:13:22.419153",
     "exception": false,
     "start_time": "2024-03-30T14:13:20.294992",
     "status": "completed"
    },
    "tags": []
   },
   "outputs": [],
   "source": [
    "# Calling the function with our data and list of features\n",
    "features = ['Pregnancies', 'Glucose', 'BloodPressure', 'SkinThickness',\n",
    "            'Insulin', 'BMI', 'DiabetesPedigreeFunction']  \n",
    "plot_scatter_age_distribution(data, features)"
   ]
  },
  {
   "cell_type": "markdown",
   "id": "022adc30",
   "metadata": {
    "papermill": {
     "duration": 0.023557,
     "end_time": "2024-03-30T14:13:22.466960",
     "exception": false,
     "start_time": "2024-03-30T14:13:22.443403",
     "status": "completed"
    },
    "tags": []
   },
   "source": [
    "#### Here, we can observe the relationships between age and various features in the dataset using scatter plots. These plots allow us to visualize how age is distributed for different values of each feature. For instance, the scatter plot for 'BloodPressure' might reveal if there's a trend of higher or lower blood pressure at different age groups.\n",
    "\n",
    "#### By analyzing these scatter plots, we can gain insights into potential correlations or patterns between age and other health factors."
   ]
  },
  {
   "cell_type": "code",
   "execution_count": null,
   "id": "b84d080d",
   "metadata": {
    "execution": {
     "iopub.execute_input": "2024-03-30T14:13:22.517301Z",
     "iopub.status.busy": "2024-03-30T14:13:22.516445Z",
     "iopub.status.idle": "2024-03-30T14:13:23.180637Z",
     "shell.execute_reply": "2024-03-30T14:13:23.179434Z"
    },
    "papermill": {
     "duration": 0.692576,
     "end_time": "2024-03-30T14:13:23.183556",
     "exception": false,
     "start_time": "2024-03-30T14:13:22.490980",
     "status": "completed"
    },
    "tags": []
   },
   "outputs": [],
   "source": [
    "# Correlation Matrix\n",
    "correlation_matrix = data.corr()\n",
    "plt.figure(figsize=(10, 8))\n",
    "sns.heatmap(correlation_matrix, annot=True, cmap='coolwarm', fmt=\".2f\")\n",
    "plt.title('Correlation Matrix')\n",
    "plt.show()"
   ]
  },
  {
   "cell_type": "markdown",
   "id": "54fef285",
   "metadata": {
    "papermill": {
     "duration": 0.025559,
     "end_time": "2024-03-30T14:13:23.235174",
     "exception": false,
     "start_time": "2024-03-30T14:13:23.209615",
     "status": "completed"
    },
    "tags": []
   },
   "source": [
    "# Training And Testing Sets"
   ]
  },
  {
   "cell_type": "code",
   "execution_count": null,
   "id": "c74e96d8",
   "metadata": {
    "execution": {
     "iopub.execute_input": "2024-03-30T14:13:23.288645Z",
     "iopub.status.busy": "2024-03-30T14:13:23.287874Z",
     "iopub.status.idle": "2024-03-30T14:13:23.294991Z",
     "shell.execute_reply": "2024-03-30T14:13:23.293674Z"
    },
    "papermill": {
     "duration": 0.036476,
     "end_time": "2024-03-30T14:13:23.297391",
     "exception": false,
     "start_time": "2024-03-30T14:13:23.260915",
     "status": "completed"
    },
    "tags": []
   },
   "outputs": [],
   "source": [
    "# Splitting Features and Target Variable\n",
    "y = data['Outcome'] # Depended\n",
    "x = data.drop('Outcome', axis=1) # independents"
   ]
  },
  {
   "cell_type": "markdown",
   "id": "8388b716",
   "metadata": {
    "papermill": {
     "duration": 0.027205,
     "end_time": "2024-03-30T14:13:23.350541",
     "exception": false,
     "start_time": "2024-03-30T14:13:23.323336",
     "status": "completed"
    },
    "tags": []
   },
   "source": [
    "*  Splitting Data for Training and Testing:"
   ]
  },
  {
   "cell_type": "code",
   "execution_count": null,
   "id": "76870ff1",
   "metadata": {
    "execution": {
     "iopub.execute_input": "2024-03-30T14:13:23.403165Z",
     "iopub.status.busy": "2024-03-30T14:13:23.402690Z",
     "iopub.status.idle": "2024-03-30T14:13:23.414206Z",
     "shell.execute_reply": "2024-03-30T14:13:23.413135Z"
    },
    "papermill": {
     "duration": 0.040822,
     "end_time": "2024-03-30T14:13:23.416727",
     "exception": false,
     "start_time": "2024-03-30T14:13:23.375905",
     "status": "completed"
    },
    "tags": []
   },
   "outputs": [],
   "source": [
    "x_train,x_test,y_train,y_test = train_test_split(x,y,test_size=0.2,random_state=0)"
   ]
  },
  {
   "cell_type": "markdown",
   "id": "579bb5a6",
   "metadata": {
    "papermill": {
     "duration": 0.024996,
     "end_time": "2024-03-30T14:13:23.467023",
     "exception": false,
     "start_time": "2024-03-30T14:13:23.442027",
     "status": "completed"
    },
    "tags": []
   },
   "source": [
    "# Feature Scaling"
   ]
  },
  {
   "cell_type": "code",
   "execution_count": null,
   "id": "ab5d9ca5",
   "metadata": {
    "execution": {
     "iopub.execute_input": "2024-03-30T14:13:23.519391Z",
     "iopub.status.busy": "2024-03-30T14:13:23.518956Z",
     "iopub.status.idle": "2024-03-30T14:13:23.531177Z",
     "shell.execute_reply": "2024-03-30T14:13:23.530153Z"
    },
    "papermill": {
     "duration": 0.041356,
     "end_time": "2024-03-30T14:13:23.533844",
     "exception": false,
     "start_time": "2024-03-30T14:13:23.492488",
     "status": "completed"
    },
    "tags": []
   },
   "outputs": [],
   "source": [
    "scaler = StandardScaler()\n",
    "x_train = scaler.fit_transform(x_train)\n",
    "x_test = scaler.transform(x_test)"
   ]
  },
  {
   "cell_type": "code",
   "execution_count": null,
   "id": "a9d23312",
   "metadata": {
    "execution": {
     "iopub.execute_input": "2024-03-30T14:13:23.587556Z",
     "iopub.status.busy": "2024-03-30T14:13:23.586691Z",
     "iopub.status.idle": "2024-03-30T14:13:23.593838Z",
     "shell.execute_reply": "2024-03-30T14:13:23.592540Z"
    },
    "papermill": {
     "duration": 0.03747,
     "end_time": "2024-03-30T14:13:23.596918",
     "exception": false,
     "start_time": "2024-03-30T14:13:23.559448",
     "status": "completed"
    },
    "tags": []
   },
   "outputs": [],
   "source": [
    "print('Length of Training Set :',len(x_train))\n",
    "print('Length of Testing Set :',len(x_test))"
   ]
  },
  {
   "cell_type": "markdown",
   "id": "ceeed00a",
   "metadata": {
    "papermill": {
     "duration": 0.024426,
     "end_time": "2024-03-30T14:13:23.647340",
     "exception": false,
     "start_time": "2024-03-30T14:13:23.622914",
     "status": "completed"
    },
    "tags": []
   },
   "source": [
    "# Model Execution:"
   ]
  },
  {
   "cell_type": "markdown",
   "id": "11f9c034",
   "metadata": {
    "papermill": {
     "duration": 0.024401,
     "end_time": "2024-03-30T14:13:23.696694",
     "exception": false,
     "start_time": "2024-03-30T14:13:23.672293",
     "status": "completed"
    },
    "tags": []
   },
   "source": [
    "### K-Nearest Neighbors (KNN)\n",
    "\n",
    "#### Importance of Hyperparameter Tuning (K):\n",
    "\n",
    "In K-Nearest Neighbors (KNN), the `n_neighbors` parameter (denoted by K) significantly impacts model performance. Choosing the optimal K value is crucial for achieving the best accuracy. It's tempting to try a few K values manually, like I did with values like 1, 3, and 5. However, this approach might not always lead to the best outcome. In my case, I initially guessed 5 as the best K, but it only resulted in an accuracy of around 74%.\n",
    "\n",
    "A more systematic approach, like hyperparameter tuning with cross-validation, can help identify a potentially better K value. This approach is especially beneficial for datasets where the optimal K might not be readily apparent."
   ]
  },
  {
   "cell_type": "markdown",
   "id": "ee8021cf",
   "metadata": {
    "papermill": {
     "duration": 0.024784,
     "end_time": "2024-03-30T14:13:23.746238",
     "exception": false,
     "start_time": "2024-03-30T14:13:23.721454",
     "status": "completed"
    },
    "tags": []
   },
   "source": [
    "* This section outlines the process of hyperparameter tuning for K using cross-validation **:**"
   ]
  },
  {
   "cell_type": "code",
   "execution_count": null,
   "id": "5fdc39be",
   "metadata": {
    "execution": {
     "iopub.execute_input": "2024-03-30T14:13:23.799255Z",
     "iopub.status.busy": "2024-03-30T14:13:23.798455Z",
     "iopub.status.idle": "2024-03-30T14:13:28.763278Z",
     "shell.execute_reply": "2024-03-30T14:13:28.761994Z"
    },
    "papermill": {
     "duration": 4.994237,
     "end_time": "2024-03-30T14:13:28.766408",
     "exception": false,
     "start_time": "2024-03-30T14:13:23.772171",
     "status": "completed"
    },
    "tags": []
   },
   "outputs": [],
   "source": [
    "k_values = [i for i in range (1,40)]\n",
    "scores = []\n",
    "\n",
    "for k in k_values:\n",
    "    knn_model = KNeighborsClassifier(n_neighbors=k)\n",
    "    score = cross_val_score(knn_model, x, y, cv=10)\n",
    "    scores.append(np.mean(score))"
   ]
  },
  {
   "cell_type": "code",
   "execution_count": null,
   "id": "ea6a23e6",
   "metadata": {
    "execution": {
     "iopub.execute_input": "2024-03-30T14:13:28.819258Z",
     "iopub.status.busy": "2024-03-30T14:13:28.818228Z",
     "iopub.status.idle": "2024-03-30T14:13:29.111672Z",
     "shell.execute_reply": "2024-03-30T14:13:29.110499Z"
    },
    "papermill": {
     "duration": 0.322093,
     "end_time": "2024-03-30T14:13:29.114229",
     "exception": false,
     "start_time": "2024-03-30T14:13:28.792136",
     "status": "completed"
    },
    "tags": []
   },
   "outputs": [],
   "source": [
    "# Visualize K vs Accuracy\n",
    "sns.lineplot(x = k_values, y = scores, marker = 'o')\n",
    "plt.xlabel(\"K Values\")\n",
    "plt.ylabel(\"Accuracy Score\")\n",
    "plt.show()"
   ]
  },
  {
   "cell_type": "code",
   "execution_count": null,
   "id": "2ec4e7d0",
   "metadata": {
    "execution": {
     "iopub.execute_input": "2024-03-30T14:13:29.167465Z",
     "iopub.status.busy": "2024-03-30T14:13:29.166636Z",
     "iopub.status.idle": "2024-03-30T14:13:29.179306Z",
     "shell.execute_reply": "2024-03-30T14:13:29.178453Z"
    },
    "papermill": {
     "duration": 0.04235,
     "end_time": "2024-03-30T14:13:29.181822",
     "exception": false,
     "start_time": "2024-03-30T14:13:29.139472",
     "status": "completed"
    },
    "tags": []
   },
   "outputs": [],
   "source": [
    "best_index = np.argmax(scores)\n",
    "best_k = k_values[best_index]\n",
    "\n",
    "knn_model = KNeighborsClassifier(n_neighbors=best_k)\n",
    "knn_model.fit(x_train, y_train)"
   ]
  },
  {
   "cell_type": "markdown",
   "id": "62f434cd",
   "metadata": {
    "papermill": {
     "duration": 0.026173,
     "end_time": "2024-03-30T14:13:29.296495",
     "exception": false,
     "start_time": "2024-03-30T14:13:29.270322",
     "status": "completed"
    },
    "tags": []
   },
   "source": [
    "# Model evaluation"
   ]
  },
  {
   "cell_type": "code",
   "execution_count": null,
   "id": "3a46fd28",
   "metadata": {
    "execution": {
     "iopub.execute_input": "2024-03-30T14:13:29.351831Z",
     "iopub.status.busy": "2024-03-30T14:13:29.351097Z",
     "iopub.status.idle": "2024-03-30T14:13:29.373424Z",
     "shell.execute_reply": "2024-03-30T14:13:29.371931Z"
    },
    "papermill": {
     "duration": 0.053007,
     "end_time": "2024-03-30T14:13:29.375941",
     "exception": false,
     "start_time": "2024-03-30T14:13:29.322934",
     "status": "completed"
    },
    "tags": []
   },
   "outputs": [],
   "source": [
    "y_pred = knn_model.predict(x_test) \n",
    "knn_accuracy = accuracy_score(y_test, y_pred)\n",
    "knn_accuracy"
   ]
  },
  {
   "cell_type": "code",
   "execution_count": null,
   "id": "83d3ef37",
   "metadata": {
    "execution": {
     "iopub.execute_input": "2024-03-30T14:13:29.431016Z",
     "iopub.status.busy": "2024-03-30T14:13:29.430597Z",
     "iopub.status.idle": "2024-03-30T14:13:29.520989Z",
     "shell.execute_reply": "2024-03-30T14:13:29.519640Z"
    },
    "papermill": {
     "duration": 0.121132,
     "end_time": "2024-03-30T14:13:29.523760",
     "exception": false,
     "start_time": "2024-03-30T14:13:29.402628",
     "status": "completed"
    },
    "tags": []
   },
   "outputs": [],
   "source": [
    "# Evaluate The Model\n",
    "Training_score = accuracy_score(y_train, knn_model.predict(x_train))  \n",
    "Testing_score = accuracy_score(y_test, y_pred)\n",
    "\n",
    "# Precision, Recall, F1-score\n",
    "precision = precision_score(y_test, y_pred)\n",
    "recall = recall_score(y_test, y_pred)\n",
    "f1 = f1_score(y_test, y_pred)\n",
    "\n",
    "# Classification Report\n",
    "class_names = ['Non-Diabetic', 'Diabetic']  \n",
    "report = classification_report(y_test, y_pred, target_names=class_names, output_dict=True)\n",
    "\n",
    "# Print the relevant metrics\n",
    "print('Training Score (Accuracy):', Training_score)\n",
    "print('Testing Score (Accuracy):', Testing_score)\n",
    "print('Precision:', precision)\n",
    "print('Recall:', recall)\n",
    "print('F1-Score:', f1)\n",
    "\n",
    "# Print detailed Classification Report\n",
    "print('\\nClassification Report:')\n",
    "print(classification_report(y_test, y_pred, target_names=class_names))"
   ]
  },
  {
   "cell_type": "code",
   "execution_count": null,
   "id": "bc32ff9c",
   "metadata": {
    "execution": {
     "iopub.execute_input": "2024-03-30T14:13:29.579361Z",
     "iopub.status.busy": "2024-03-30T14:13:29.578668Z",
     "iopub.status.idle": "2024-03-30T14:13:29.955345Z",
     "shell.execute_reply": "2024-03-30T14:13:29.954085Z"
    },
    "papermill": {
     "duration": 0.408083,
     "end_time": "2024-03-30T14:13:29.958074",
     "exception": false,
     "start_time": "2024-03-30T14:13:29.549991",
     "status": "completed"
    },
    "tags": []
   },
   "outputs": [],
   "source": [
    "plt.figure(figsize=(8, 6))\n",
    "sns.heatmap(pd.DataFrame(report).iloc[:-1, :].T, annot=True, cmap='Blues', linewidths=.5)\n",
    "plt.title('Classification Report for KNN')\n",
    "plt.show()"
   ]
  },
  {
   "cell_type": "code",
   "execution_count": null,
   "id": "fe0bab28",
   "metadata": {
    "execution": {
     "iopub.execute_input": "2024-03-30T14:13:30.015363Z",
     "iopub.status.busy": "2024-03-30T14:13:30.014923Z",
     "iopub.status.idle": "2024-03-30T14:13:30.315227Z",
     "shell.execute_reply": "2024-03-30T14:13:30.314132Z"
    },
    "papermill": {
     "duration": 0.331989,
     "end_time": "2024-03-30T14:13:30.317986",
     "exception": false,
     "start_time": "2024-03-30T14:13:29.985997",
     "status": "completed"
    },
    "tags": []
   },
   "outputs": [],
   "source": [
    "confusion_matrix = confusion_matrix(y_test, y_pred)\n",
    "cm_display = ConfusionMatrixDisplay(confusion_matrix = confusion_matrix, display_labels = [\"Non-Diabetic\", \"Diabetic\"])\n",
    "cm_display.plot()\n",
    "plt.show()"
   ]
  },
  {
   "cell_type": "code",
   "execution_count": null,
   "id": "1cf6a8bc",
   "metadata": {},
   "outputs": [],
   "source": [
    "#loop data use model to predict the outcome\n",
    "def predict_diabetes(data, model):\n",
    "    data = scaler.transform(data)\n",
    "    prediction = model.predict(data)\n",
    "    return prediction\n",
    "\n",
    "# Create a sample data\n",
    "\n",
    "sample_data = [[6, 148, 72, 35, 0, 33.6, 0.627, 50],\n",
    "               [1, 85, 66, 29, 0, 26.6, 0.351, 31],\n",
    "                [8, 183, 64, 0, 0, 23.3, 0.672, 32],\n",
    "                [1, 89, 66, 23, 94, 28.1, 0.167, 21],\n",
    "                [0, 137, 40, 35, 168, 43.1, 2.288, 33]]\n",
    "\n",
    "# Predict the outcome\n",
    "predictions = predict_diabetes(sample_data, knn_model)\n",
    "for i, prediction in enumerate(predictions):\n",
    "    print(f\"Prediction for Sample {i+1}: {'Diabetic' if prediction == 1 else 'Non-Diabetic'}\")\n",
    "    \n",
    "# Save the model\n",
    "import joblib\n",
    "joblib.dump(knn_model, 'knn_diabetes_model.pkl')\n",
    "print(\"Model Saved Successfully!\")\n",
    "\n",
    "# Load the model\n",
    "loaded_model = joblib.load('knn_diabetes_model.pkl')\n",
    "\n",
    "# Predict the outcome\n",
    "predictions = predict_diabetes(sample_data, loaded_model)\n",
    "for i, prediction in enumerate(predictions):\n",
    "    print(f\"Prediction for Sample {i+1}: {'Diabetic' if prediction == 1 else 'Non-Diabetic'}\")\n",
    "    \n",
    "# Save the scaler\n",
    "joblib.dump(scaler, 'scaler.pkl')\n",
    "print(\"Scaler Saved Successfully!\")\n"
   ]
  },
  {
   "cell_type": "code",
   "execution_count": 50,
   "id": "8cd627a5",
   "metadata": {},
   "outputs": [
    {
     "name": "stdout",
     "output_type": "stream",
     "text": [
      "Prediction for Sample 1: Diabetic\n",
      "Prediction for Sample 2: Non-Diabetic\n",
      "Prediction for Sample 3: Diabetic\n",
      "Prediction for Sample 4: Non-Diabetic\n",
      "Prediction for Sample 5: Diabetic\n"
     ]
    }
   ],
   "source": [
    "import joblib\n",
    "\n",
    "sample_data = [[6, 148, 72, 35, 0, 33.6, 0.627, 50],\n",
    "               [1, 85, 66, 29, 0, 26.6, 0.351, 31],\n",
    "                [8, 183, 64, 0, 0, 23.3, 0.672, 32],\n",
    "                [1, 89, 66, 23, 94, 28.1, 0.167, 21],\n",
    "                [0, 137, 40, 35, 168, 43.1, 2.288, 33]]\n",
    "\n",
    "loaded_model = joblib.load('knn_diabetes_model.pkl')\n",
    "\n",
    "predictions = predict_diabetes(sample_data, loaded_model)\n",
    "for i, prediction in enumerate(predictions):\n",
    "    print(f\"Prediction for Sample {i+1}: {'Diabetic' if prediction == 1 else 'Non-Diabetic'}\")"
   ]
  },
  {
   "cell_type": "code",
   "execution_count": 52,
   "id": "b73a5244",
   "metadata": {},
   "outputs": [
    {
     "data": {
      "text/plain": [
       "'Yes'"
      ]
     },
     "execution_count": 52,
     "metadata": {},
     "output_type": "execute_result"
    }
   ],
   "source": [
    "import joblib\n",
    "import numpy as np\n",
    "import warnings\n",
    "\n",
    "warnings.filterwarnings(\"ignore\", message=\"Trying to unpickle estimator.*\")\n",
    "\n",
    "def predict_loan_approval(pregnancies: int, glucose: int, bloodPressure: int, skinthickness: int, insulin: int, diabetespedigreefunction: float, bmi: float, age: int) -> str:\n",
    "    # Load the trained model\n",
    "    loaded_model = joblib.load('knn_diabetes_model.pkl')\n",
    "\n",
    "    # Prepare the new data for prediction\n",
    "    new_data = np.array([[pregnancies, glucose, bloodPressure, skinthickness, insulin, bmi, diabetespedigreefunction, age]])\n",
    "\n",
    "    prediction = loaded_model.predict(new_data)\n",
    "\n",
    "    # Return prediction as \"Yes\" or \"No\"\n",
    "    return \"Yes\" if prediction[0] == 1 else \"No\"\n",
    "\n",
    "predict_loan_approval (6, 148, 72, 35, 0, 33.6, 0.627, 50)\n"
   ]
  },
  {
   "cell_type": "code",
   "execution_count": null,
   "id": "a8b253c9",
   "metadata": {},
   "outputs": [],
   "source": []
  }
 ],
 "metadata": {
  "kaggle": {
   "accelerator": "none",
   "dataSources": [
    {
     "datasetId": 228,
     "sourceId": 482,
     "sourceType": "datasetVersion"
    }
   ],
   "dockerImageVersionId": 30673,
   "isGpuEnabled": false,
   "isInternetEnabled": true,
   "language": "python",
   "sourceType": "notebook"
  },
  "kernelspec": {
   "display_name": "Python 3",
   "language": "python",
   "name": "python3"
  },
  "language_info": {
   "codemirror_mode": {
    "name": "ipython",
    "version": 3
   },
   "file_extension": ".py",
   "mimetype": "text/x-python",
   "name": "python",
   "nbconvert_exporter": "python",
   "pygments_lexer": "ipython3",
   "version": "3.12.2"
  },
  "papermill": {
   "default_parameters": {},
   "duration": 22.740344,
   "end_time": "2024-03-30T14:13:31.167749",
   "environment_variables": {},
   "exception": null,
   "input_path": "__notebook__.ipynb",
   "output_path": "__notebook__.ipynb",
   "parameters": {},
   "start_time": "2024-03-30T14:13:08.427405",
   "version": "2.5.0"
  }
 },
 "nbformat": 4,
 "nbformat_minor": 5
}
